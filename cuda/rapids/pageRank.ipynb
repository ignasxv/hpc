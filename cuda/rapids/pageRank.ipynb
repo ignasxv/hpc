{
 "cells": [
  {
   "cell_type": "markdown",
   "id": "a78edde4",
   "metadata": {},
   "source": [
    "cuGraph - GPU Graph Analytics - https://github.com/rapidsai/cugraph\n",
    "\n",
    "Python snippet loads graph data and computes PageRank\n",
    "Graph Data \"Python snippet loads graph data and computes PageRank\" Graph Data is the communication links between members of a large European Research institiution - https://snap.stanford.edu/data/email-Eu-core.html"
   ]
  },
  {
   "cell_type": "code",
   "execution_count": 5,
   "id": "43630f8e",
   "metadata": {},
   "outputs": [
    {
     "data": {
      "text/html": [
       "<div>\n",
       "<style scoped>\n",
       "    .dataframe tbody tr th:only-of-type {\n",
       "        vertical-align: middle;\n",
       "    }\n",
       "\n",
       "    .dataframe tbody tr th {\n",
       "        vertical-align: top;\n",
       "    }\n",
       "\n",
       "    .dataframe thead th {\n",
       "        text-align: right;\n",
       "    }\n",
       "</style>\n",
       "<table border=\"1\" class=\"dataframe\">\n",
       "  <thead>\n",
       "    <tr style=\"text-align: right;\">\n",
       "      <th></th>\n",
       "      <th>pagerank</th>\n",
       "      <th>vertex</th>\n",
       "    </tr>\n",
       "  </thead>\n",
       "  <tbody>\n",
       "    <tr>\n",
       "      <th>909</th>\n",
       "      <td>0.009073</td>\n",
       "      <td>160</td>\n",
       "    </tr>\n",
       "    <tr>\n",
       "      <th>911</th>\n",
       "      <td>0.006074</td>\n",
       "      <td>121</td>\n",
       "    </tr>\n",
       "    <tr>\n",
       "      <th>910</th>\n",
       "      <td>0.006035</td>\n",
       "      <td>82</td>\n",
       "    </tr>\n",
       "    <tr>\n",
       "      <th>912</th>\n",
       "      <td>0.005842</td>\n",
       "      <td>107</td>\n",
       "    </tr>\n",
       "    <tr>\n",
       "      <th>913</th>\n",
       "      <td>0.005721</td>\n",
       "      <td>86</td>\n",
       "    </tr>\n",
       "    <tr>\n",
       "      <th>914</th>\n",
       "      <td>0.005436</td>\n",
       "      <td>62</td>\n",
       "    </tr>\n",
       "    <tr>\n",
       "      <th>919</th>\n",
       "      <td>0.004911</td>\n",
       "      <td>5</td>\n",
       "    </tr>\n",
       "    <tr>\n",
       "      <th>915</th>\n",
       "      <td>0.004593</td>\n",
       "      <td>13</td>\n",
       "    </tr>\n",
       "    <tr>\n",
       "      <th>927</th>\n",
       "      <td>0.004552</td>\n",
       "      <td>166</td>\n",
       "    </tr>\n",
       "    <tr>\n",
       "      <th>918</th>\n",
       "      <td>0.004536</td>\n",
       "      <td>434</td>\n",
       "    </tr>\n",
       "  </tbody>\n",
       "</table>\n",
       "</div>"
      ],
      "text/plain": [
       "     pagerank  vertex\n",
       "909  0.009073     160\n",
       "911  0.006074     121\n",
       "910  0.006035      82\n",
       "912  0.005842     107\n",
       "913  0.005721      86\n",
       "914  0.005436      62\n",
       "919  0.004911       5\n",
       "915  0.004593      13\n",
       "927  0.004552     166\n",
       "918  0.004536     434"
      ]
     },
     "execution_count": 5,
     "metadata": {},
     "output_type": "execute_result"
    }
   ],
   "source": [
    "import cudf\n",
    "import cugraph\n",
    "\n",
    "# read data into a cuDF DataFrame using read_csv\n",
    "gdf = cudf.read_csv(\"email-Eu-core.txt-edges.csv\", names=[\"src\", \"dst\"], dtype=[\"int32\", \"int32\"])\n",
    "\n",
    "# We now have data as edge pairs\n",
    "# create a Graph using the source (src) and destination (dst) vertex pairs\n",
    "G = cugraph.Graph()\n",
    "G.from_cudf_edgelist(gdf, source='src', destination='dst')\n",
    "\n",
    "# Let's now get the PageRank score of each vertex by calling cugraph.pagerank\n",
    "df_page = cugraph.pagerank(G)\n",
    "\n",
    "# Let's look at the top 10 PageRank Score\n",
    "df_page.sort_values('pagerank', ascending=False).head(10)"
   ]
  },
  {
   "cell_type": "code",
   "execution_count": null,
   "id": "095f6813",
   "metadata": {},
   "outputs": [],
   "source": []
  },
  {
   "cell_type": "code",
   "execution_count": null,
   "id": "c8bcaf53",
   "metadata": {},
   "outputs": [],
   "source": []
  }
 ],
 "metadata": {
  "kernelspec": {
   "display_name": "Python 3",
   "language": "python",
   "name": "python3"
  },
  "language_info": {
   "codemirror_mode": {
    "name": "ipython",
    "version": 3
   },
   "file_extension": ".py",
   "mimetype": "text/x-python",
   "name": "python",
   "nbconvert_exporter": "python",
   "pygments_lexer": "ipython3",
   "version": "3.7.10"
  }
 },
 "nbformat": 4,
 "nbformat_minor": 5
}
